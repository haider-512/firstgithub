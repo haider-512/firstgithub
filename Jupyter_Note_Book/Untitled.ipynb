{
 "cells": [
  {
   "cell_type": "markdown",
   "metadata": {},
   "source": [
    "# Python ka Chilla with Dr. Ammar\n",
    "## How to use Jupyter Notebook\n",
    "## Basics of Python\n",
    "\n",
    "### **01- My first Program**"
   ]
  },
  {
   "cell_type": "code",
   "execution_count": 1,
   "metadata": {},
   "outputs": [
    {
     "name": "stdout",
     "output_type": "stream",
     "text": [
      "5\n",
      "Hello World\n",
      "We are learning python with Dr. Ammar\n"
     ]
    }
   ],
   "source": [
    "#My first orogram\n",
    "print(2+3)\n",
    "print(\"Hello World\")\n",
    "print(\"We are learning python with Dr. Ammar\")"
   ]
  },
  {
   "cell_type": "markdown",
   "metadata": {},
   "source": [
    "### **02- Operators**"
   ]
  },
  {
   "cell_type": "code",
   "execution_count": 2,
   "metadata": {
    "scrolled": true
   },
   "outputs": [
    {
     "name": "stdout",
     "output_type": "stream",
     "text": [
      "6\n",
      "1\n",
      "9\n",
      "2.0\n",
      "2\n",
      "8\n"
     ]
    }
   ],
   "source": [
    "print(3+3)\n",
    "print(4-3)\n",
    "print(3*3)\n",
    "print(6/3)\n",
    "print(6//3)\n",
    "print(6//3+9-3)"
   ]
  },
  {
   "cell_type": "markdown",
   "metadata": {},
   "source": [
    "*PEMDAS\n",
    "Paranthesis\n",
    "Exponent\n",
    "Multilyy\n",
    "Divide\n",
    "Addition\n",
    "Subtraction\n",
    "Product, Exponent, Multiply, Divide, Addition, Subtraction\n",
    "Left to Right sequence M D, A S*"
   ]
  },
  {
   "cell_type": "markdown",
   "metadata": {},
   "source": [
    "### **03- Strings**"
   ]
  },
  {
   "cell_type": "code",
   "execution_count": 3,
   "metadata": {},
   "outputs": [
    {
     "name": "stdout",
     "output_type": "stream",
     "text": [
      "Hello World!\n",
      "We are learning with Dr. Ammar\n",
      "Test for single quotes\n",
      "Test for double quotes\n",
      "Test for tripple quotes\n",
      "What's up\n"
     ]
    }
   ],
   "source": [
    "print(\"Hello World!\")\n",
    "print(\"We are learning with Dr. Ammar\")\n",
    "print('Test for single quotes')\n",
    "print(\"Test for double quotes\")\n",
    "print('''Test for tripple quotes''')\n",
    "print(\"What's up\")"
   ]
  },
  {
   "cell_type": "markdown",
   "metadata": {},
   "source": [
    "### **04- Comments** \n",
    "The sortcut key to comments is **Ctrl+/**"
   ]
  },
  {
   "cell_type": "code",
   "execution_count": 4,
   "metadata": {},
   "outputs": [],
   "source": [
    "#print(\"HELLO\")\n",
    "#Ctrl + / to comment out\n",
    "\n",
    "#print(45+34)"
   ]
  }
 ],
 "metadata": {
  "kernelspec": {
   "display_name": "Python 3",
   "language": "python",
   "name": "python3"
  },
  "language_info": {
   "codemirror_mode": {
    "name": "ipython",
    "version": 3
   },
   "file_extension": ".py",
   "mimetype": "text/x-python",
   "name": "python",
   "nbconvert_exporter": "python",
   "pygments_lexer": "ipython3",
   "version": "3.8.5"
  }
 },
 "nbformat": 4,
 "nbformat_minor": 4
}
