{
 "cells": [
  {
   "cell_type": "markdown",
   "id": "6982deac-11c9-476d-968a-bb38409cf4da",
   "metadata": {},
   "source": [
    "# Python ka chilla with #baba aammar\n",
    "## How to use jupyter notebook\n",
    "## Basics of python\n",
    "\n",
    "### **01- my first program**"
   ]
  },
  {
   "cell_type": "code",
   "execution_count": 1,
   "id": "973e6512-5224-4741-9021-1de2a6904dd5",
   "metadata": {
    "tags": []
   },
   "outputs": [
    {
     "name": "stdout",
     "output_type": "stream",
     "text": [
      "5\n",
      "Hello World!\n",
      "Learning python with Dr. Aaammar\n"
     ]
    }
   ],
   "source": [
    "print(2+3)\n",
    "print(\"Hello World!\")\n",
    "print(\"Learning python with Dr. Aaammar\")"
   ]
  },
  {
   "cell_type": "markdown",
   "id": "26c8f712-b1e1-4112-951c-c0d4abcb7180",
   "metadata": {},
   "source": [
    "### **02- operators**"
   ]
  },
  {
   "cell_type": "code",
   "execution_count": 2,
   "id": "01a8928d-880c-4c45-b455-04151a3fc42c",
   "metadata": {},
   "outputs": [
    {
     "name": "stdout",
     "output_type": "stream",
     "text": [
      "6\n",
      "1\n",
      "9\n",
      "2.0\n",
      "2\n",
      "8\n"
     ]
    }
   ],
   "source": [
    "print(3+3)\n",
    "print(4-3)\n",
    "print(3*3)\n",
    "print(6/3)\n",
    "print(6//3)\n",
    "print(6//3+9-3)"
   ]
  },
  {
   "cell_type": "markdown",
   "id": "9076c5e1-2613-4f74-ae17-c87451637282",
   "metadata": {},
   "source": [
    "*PEMDAS\n",
    "Product, Exponent, Multiply, Divide, Addition, Subtraction\n",
    "Left to Right sequence M D & A S*"
   ]
  },
  {
   "cell_type": "markdown",
   "id": "398b1e3c-cf6f-4462-8e51-d99b82063ee6",
   "metadata": {},
   "source": [
    "### **03- strings**"
   ]
  },
  {
   "cell_type": "code",
   "execution_count": 3,
   "id": "e5d405ce-7338-4f86-a1e7-5c6305a80a43",
   "metadata": {},
   "outputs": [
    {
     "name": "stdout",
     "output_type": "stream",
     "text": [
      "HELLO\n",
      "HELLO\n",
      "HELLO\n",
      "What's up\n"
     ]
    }
   ],
   "source": [
    "print(\"HELLO\")\n",
    "print('HELLO')\n",
    "print('''HELLO''')\n",
    "print(\"What's up\")"
   ]
  },
  {
   "cell_type": "markdown",
   "id": "6bb973c0-3da2-4ebb-9aba-d498d8e17271",
   "metadata": {
    "tags": []
   },
   "source": [
    "### **04- comments**\n",
    "The shortcut key to comments is **Ctrl + /**"
   ]
  },
  {
   "cell_type": "code",
   "execution_count": 4,
   "id": "c0ade26a-e57f-4444-9c97-66fe32bcf4d0",
   "metadata": {},
   "outputs": [
    {
     "name": "stdout",
     "output_type": "stream",
     "text": [
      "HELLO\n"
     ]
    }
   ],
   "source": [
    "print(\"HELLO\")"
   ]
  },
  {
   "cell_type": "markdown",
   "id": "dd966c39-8559-4dfe-9cf0-b8b63e2922ba",
   "metadata": {
    "tags": []
   },
   "source": [
    "*Ctrl + / to comment out*"
   ]
  },
  {
   "cell_type": "markdown",
   "id": "725b33ee-bf0d-4762-b90a-8d0530ac1355",
   "metadata": {},
   "source": [
    "### **05- variables**"
   ]
  },
  {
   "cell_type": "code",
   "execution_count": 5,
   "id": "65e7f538-40d8-41cb-8ea0-65a8ff370d40",
   "metadata": {},
   "outputs": [
    {
     "name": "stdout",
     "output_type": "stream",
     "text": [
      "5\n",
      "<class 'int'>\n",
      "<class 'str'>\n"
     ]
    }
   ],
   "source": [
    "x=5\n",
    "print(x)\n",
    "y=\"Learning PYTHON with De. Aammar\"\n",
    "print (type(x))\n",
    "print (type(y))\n",
    "fruit_basket = 8\n",
    "fruit_basket=\"mangoes\"\n",
    "del fruit_basket"
   ]
  },
  {
   "cell_type": "markdown",
   "id": "515e29e2-df51-4b63-9475-8f2a71d5a114",
   "metadata": {},
   "source": [
    "*print(fruit_basket)*"
   ]
  },
  {
   "cell_type": "markdown",
   "id": "6f0a72bc-0b80-48e3-b859-b30da0daf654",
   "metadata": {},
   "source": [
    "### **06- input_variable**"
   ]
  },
  {
   "cell_type": "markdown",
   "id": "62ce92ae-06c7-4baf-8d91-b5146d74976b",
   "metadata": {
    "jp-MarkdownHeadingCollapsed": true,
    "tags": []
   },
   "source": [
    "*input_function\n",
    "haider\\\n",
    "\n",
    "name=input(\"What is your name?  \")\n",
    "greetings = \"Hello!\"\n",
    "print(greetings, name)\n",
    "\n",
    "name=input(\"What is your name?  \")\n",
    "greetings = \"Hello!\"\n",
    "print(\"Hello!\", name)*"
   ]
  },
  {
   "cell_type": "code",
   "execution_count": null,
   "id": "8db9bdee-8003-4058-b04d-1b58bc51facd",
   "metadata": {},
   "outputs": [],
   "source": [
    "name=input(\"What is your name?  \")\n",
    "age = input(\"How old you are? \")"
   ]
  },
  {
   "cell_type": "markdown",
   "id": "12b7ed8a-5af0-4d38-998a-b8aa06320c80",
   "metadata": {},
   "source": [
    "*greetings = \"Hello!\"*"
   ]
  },
  {
   "cell_type": "code",
   "execution_count": null,
   "id": "45c0625c-ac94-415b-a9e0-7ee77c8d2307",
   "metadata": {},
   "outputs": [],
   "source": [
    "print(\"Hello!\", name, \",You are still young\")"
   ]
  },
  {
   "cell_type": "markdown",
   "id": "f99dce08-0327-4707-96f7-3f235c0c4799",
   "metadata": {},
   "source": [
    "### **07- conditional_logic**"
   ]
  },
  {
   "cell_type": "markdown",
   "id": "6c2780e7-9ee7-4156-b18b-3c494616cb29",
   "metadata": {},
   "source": [
    "*greater than >\n",
    "less than <\n",
    "equal to ==\n",
    "less than equal to <=\n",
    "greater than equal to >=\n",
    "not equala t !=*"
   ]
  },
  {
   "cell_type": "markdown",
   "id": "d54aa720-f25b-4740-93ec-33470089a3f1",
   "metadata": {},
   "source": [
    "print(4==4)\n",
    "print(4==4)"
   ]
  },
  {
   "cell_type": "markdown",
   "id": "7c41d4bd-bb54-49b6-ae33-01da18dff9d4",
   "metadata": {},
   "source": [
    "*print(4==4)\n",
    "print(4!=4)\n",
    "print(4<=5)\n",
    "print(4>=6)\n",
    "print(4<=9)\n",
    "print(4>8)*\n",
    "\n",
    "*applications*\n",
    "\n",
    "*hammad_age=4\n",
    "age_at_school=5\n",
    "print(hammad_age==age_at_school)\n",
    "input functions and logical operators\n",
    "hammad_age=input(\"How old is hammad?  \")\n",
    "hammad_age=int(hammad_age)  #converting input from string to int type\n",
    "print (type(hammad_age))\n",
    "age_at_school=5\n",
    "print(hammad_age==age_at_school)*"
   ]
  },
  {
   "cell_type": "markdown",
   "id": "177b0b40-1433-4ed8-9aab-cae5e7188286",
   "metadata": {},
   "source": [
    "*Use of Greater than Equals to*"
   ]
  },
  {
   "cell_type": "code",
   "execution_count": null,
   "id": "a8faff21-c1e9-40d7-a0e5-493aa646b226",
   "metadata": {},
   "outputs": [],
   "source": [
    "hammad_age=input(\"How old is hammad?  \")\n",
    "hammad_age=int(hammad_age)  #converting input from string to int type\n",
    "print (type(hammad_age))\n",
    "age_at_school=5\n",
    "print(hammad_age>=age_at_school)"
   ]
  },
  {
   "cell_type": "markdown",
   "id": "41b0e774-df70-4f62-b5c3-10c2fc6ae633",
   "metadata": {},
   "source": [
    "### **08- type_conversion**"
   ]
  },
  {
   "cell_type": "code",
   "execution_count": null,
   "id": "99f68776-55da-4cba-b688-af3d32ee17f9",
   "metadata": {},
   "outputs": [],
   "source": [
    "x= 10\n",
    "y= 10.2\n",
    "z= \"Hello\""
   ]
  },
  {
   "cell_type": "markdown",
   "id": "c93c9a6b-dedb-42c8-82ff-c5ae7745bb86",
   "metadata": {},
   "source": [
    "*implicit type conversion*"
   ]
  },
  {
   "cell_type": "code",
   "execution_count": null,
   "id": "83e2e7ca-4386-4c39-a1d8-7a5f18d2f02f",
   "metadata": {},
   "outputs": [],
   "source": [
    "x=x+y\n",
    "x=x*y\n",
    "print(x,\"Type of x is:  \", type(x))"
   ]
  },
  {
   "cell_type": "markdown",
   "id": "4b4d615a-fe05-4463-ae49-555009294f83",
   "metadata": {},
   "source": [
    "*explicit type conversion*"
   ]
  },
  {
   "cell_type": "code",
   "execution_count": null,
   "id": "9312984c-5223-4a15-9d1e-786e42880a94",
   "metadata": {},
   "outputs": [],
   "source": [
    "age=input(\"What is your age?  \")\n",
    "age=int(age)\n",
    "print(age, type(int(age)))"
   ]
  },
  {
   "cell_type": "markdown",
   "id": "6ca630f9-da09-48ee-a790-9175ff799e10",
   "metadata": {},
   "source": [
    "*print(age, type(float(age)))\n",
    "print(age, type(str(age)))*"
   ]
  },
  {
   "cell_type": "markdown",
   "id": "ddf3b8fa-c57f-458f-b70c-eae7ce84819b",
   "metadata": {},
   "source": [
    "*name*\n",
    "name=input(\"What is your name?  \")\n",
    "name=str(name)\n",
    "*print(age, type(int(age)))*\n",
    "print(age, type(float(age)))\n",
    "*print(age, type(str(age)))*"
   ]
  }
 ],
 "metadata": {
  "kernelspec": {
   "display_name": "Python 3 (ipykernel)",
   "language": "python",
   "name": "python3"
  },
  "language_info": {
   "codemirror_mode": {
    "name": "ipython",
    "version": 3
   },
   "file_extension": ".py",
   "mimetype": "text/x-python",
   "name": "python",
   "nbconvert_exporter": "python",
   "pygments_lexer": "ipython3",
   "version": "3.9.12"
  }
 },
 "nbformat": 4,
 "nbformat_minor": 5
}
